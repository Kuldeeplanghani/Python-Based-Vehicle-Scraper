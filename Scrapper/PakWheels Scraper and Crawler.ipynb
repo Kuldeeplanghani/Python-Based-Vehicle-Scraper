{
 "cells": [
  {
   "cell_type": "code",
   "execution_count": 1,
   "metadata": {
    "collapsed": true
   },
   "outputs": [],
   "source": [
    "# Written By: \n",
    "# github/irtza ... irtzali@gmail.com\n",
    "# Modified By Kuldeep Kumar 13bscskkumar@seecs.edu.pk\n",
    "# Crawling and Scraping Pakwheels.com for Advertisement Images to generate a general Car-DataSet. deep-ALPR test Set..\n",
    "# Fair-use only..\n",
    "# For educational Purposes only"
   ]
  },
  {
   "cell_type": "code",
   "execution_count": 2,
   "metadata": {
    "collapsed": true
   },
   "outputs": [],
   "source": [
    "# Basic Libraries \n",
    "import pandas as pd\n",
    "import requests as req\n",
    "import urllib2 as urllib2\n",
    "import urllib as urllib\n",
    "import numpy as np\n",
    "from bs4 import BeautifulSoup\n",
    "import os"
   ]
  },
  {
   "cell_type": "code",
   "execution_count": 4,
   "metadata": {
    "collapsed": false
   },
   "outputs": [],
   "source": [
    "# Scraps given pages whose quantity can be managed by iterative variable I set for first 35 pages.\n",
    "# Beautifies the HTML fetched from the server\n",
    "# Look for specific Ad Tags\n",
    "# Extract Image src from the images tags\n",
    "# Append to a list of links of all the Images \n",
    "\n",
    "\n",
    "# Scraps given pages whose quantity can be managed by iterative variable I set for first 35 pages.\n",
    "# Beautifies the HTML fetched from the server\n",
    "# Look for specific Ad Tags\n",
    "# Extract Image src from the images tags\n",
    "# Append to a list of links of all the Images \n",
    "\n",
    "\n",
    "def RequesterAndSimplifier():\n",
    "    links = []\n",
    "    url = \"http://www.pakwheels.com/used-cars/search/-/\"\n",
    "    for i in range(1500):\n",
    "        try:\n",
    "            print i\n",
    "            r = req.get(url)\n",
    "            print r\n",
    "            soup = BeautifulSoup(r.content)\n",
    "            ad_data = soup.find_all(\"li\" , {\"class\": \"classified-listing\"})\n",
    "            ads = []\n",
    "            for item in ad_data:\n",
    "                ads.append(item.find_all(\"li\", {\"class\":\"total-pictures-bar-outer\"}))\n",
    "            content = []\n",
    "            for ad in ads:\n",
    "                if  ad:\n",
    "                    content.append(ad.pop())\n",
    "            for item in content:\n",
    "                links.append(item.get(\"data-src\"))\n",
    "            print len(links)\n",
    "            print \"links appended\"\n",
    "            url = \"http://www.pakwheels.com/used-cars/search/-/?page=\" + str(i+1)\n",
    "        except:\n",
    "            print \"Exception\"\n",
    "            i = i - 1;\n",
    "            continue\n",
    "    print \"Total Links: \", len(links)\n",
    "    return links\n",
    "    \n"
   ]
  },
  {
   "cell_type": "code",
   "execution_count": null,
   "metadata": {
    "collapsed": false,
    "scrolled": true
   },
   "outputs": [],
   "source": [
    "# Calling the above function for fetching all the links of the Images\n",
    "links  = RequesterAndSimplifier()"
   ]
  },
  {
   "cell_type": "code",
   "execution_count": 6,
   "metadata": {
    "collapsed": false
   },
   "outputs": [],
   "source": [
    "fileopen = open(\"links.txt\", \"w\")\n",
    "for link in links:\n",
    "    fileopen.writelines(link+\"\\n\")\n",
    "    \n",
    "    "
   ]
  },
  {
   "cell_type": "code",
   "execution_count": 55,
   "metadata": {
    "collapsed": false
   },
   "outputs": [
    {
     "data": {
      "text/plain": [
       "'https://cache3.pakwheels.com/ad_pictures/1363/suzuki-swift-1-3l-dlx-2011-13635725.jpg'"
      ]
     },
     "execution_count": 55,
     "metadata": {},
     "output_type": "execute_result"
    }
   ],
   "source": [
    "links[0]"
   ]
  },
  {
   "cell_type": "code",
   "execution_count": 7,
   "metadata": {
    "collapsed": false
   },
   "outputs": [],
   "source": [
    "# Download the images from the given list.\n",
    "# Format the downloading Image as \"ID-COMPANY-MODEL-YEAR-DATE\"\n",
    "\n",
    "\n",
    "def download_images_from_list_of_links(links):\n",
    "    un = 0;\n",
    "    fileopen = open(\"links.txt\", \"w\")\n",
    "    for link in links:\n",
    "        try:\n",
    "            fileopen.writelines(link+\"\\n\")\n",
    "            response = urllib.urlopen(link)\n",
    "            print str(un) + \"downloading from \", link\n",
    "            rfname = link.split('/')[-1]\n",
    "            #rfname = rfname.split('_')[-1];\n",
    "            dir = \"images/\"+rfname.split('-')[0] +\"_\"+ rfname.split('-')[1];\n",
    "            if not os.path.exists(dir):\n",
    "                os.makedirs(dir)\n",
    "            un = un + 1;\n",
    "            local_file = open(dir+\"/\"+str(un)+\"-\" + rfname, \"wb\")\n",
    "            local_file.write(response.read())\n",
    "            local_file.close()   \n",
    "        #except urllib., e:\n",
    "        #    print \"HTTP error \",e\n",
    "        #except urllib.URLError , e:\n",
    "        #    print \"URL error \",e\n",
    "        except:\n",
    "            print \"Index Error\"\n",
    "            \n",
    "    print \"DONE downloading!\""
   ]
  },
  {
   "cell_type": "code",
   "execution_count": null,
   "metadata": {
    "collapsed": true
   },
   "outputs": [],
   "source": []
  },
  {
   "cell_type": "code",
   "execution_count": null,
   "metadata": {
    "collapsed": false,
    "scrolled": false
   },
   "outputs": [
    {
     "name": "stdout",
     "output_type": "stream",
     "text": [
      "0downloading from  https://cache1.pakwheels.com/ad_pictures/1437/suzuki-mehran-vxr-1991-14378609.jpg\n",
      "1downloading from  https://cache1.pakwheels.com/ad_pictures/1411/honda-life-c-2007-14112453.jpg\n",
      "2downloading from  https://cache4.pakwheels.com/ad_pictures/1407/toyota-corolla-gli-vvti-automatic-2015-14070689.jpg\n",
      "3downloading from  https://cache4.pakwheels.com/ad_pictures/1407/daihatsu-mira-2008-14070719.jpg\n",
      "4downloading from  https://cache1.pakwheels.com/ad_pictures/1407/toyota-corolla-gli-vvti-2014-14070634.jpg\n",
      "5downloading from  https://cache1.pakwheels.com/ad_pictures/1388/honda-city-i-dsi-2007-13886489.jpg\n",
      "6downloading from  https://cache1.pakwheels.com/ad_pictures/1437/suzuki-liana-lxi-13l-manual-transmission-2006-14379483.jpg\n",
      "7downloading from  https://cache2.pakwheels.com/ad_pictures/1388/toyota-platz-f-1-0-2004-13887178.jpg\n",
      "8downloading from  https://cache3.pakwheels.com/ad_pictures/1407/honda-civic-vti-1-8-i-vtec-oriel-prosmatec-2010-14070769.jpg\n",
      "9downloading from  https://cache2.pakwheels.com/ad_pictures/1388/honda-civic-vti-1-8-i-vtec-oriel-prosmatec-2012-13886351.jpg\n",
      "10downloading from  https://cache1.pakwheels.com/ad_pictures/1388/honda-civic-vti-1-8-i-vtec-prosmatec-2015-13886398.jpg\n",
      "11downloading from  https://cache4.pakwheels.com/ad_pictures/1388/honda-city-i-vtec-2-2014-13886432.jpg\n",
      "12downloading from  https://cache1.pakwheels.com/ad_pictures/1437/toyota-corolla-gli-vvti-2011-14379428.jpg\n",
      "13downloading from  https://cache3.pakwheels.com/ad_pictures/1437/toyota-surf-ssr-g-2-7-1996-14379455.jpg\n"
     ]
    }
   ],
   "source": [
    "# Calling the above function for downloading all the links of the Images fetched above.\n",
    "download_images_from_list_of_links(links)"
   ]
  },
  {
   "cell_type": "code",
   "execution_count": null,
   "metadata": {
    "collapsed": false
   },
   "outputs": [],
   "source": []
  },
  {
   "cell_type": "code",
   "execution_count": null,
   "metadata": {
    "collapsed": true
   },
   "outputs": [],
   "source": []
  }
 ],
 "metadata": {
  "anaconda-cloud": {},
  "kernelspec": {
   "display_name": "Python 2",
   "language": "python",
   "name": "python2"
  },
  "language_info": {
   "codemirror_mode": {
    "name": "ipython",
    "version": 2
   },
   "file_extension": ".py",
   "mimetype": "text/x-python",
   "name": "python",
   "nbconvert_exporter": "python",
   "pygments_lexer": "ipython2",
   "version": "2.7.12"
  }
 },
 "nbformat": 4,
 "nbformat_minor": 0
}
