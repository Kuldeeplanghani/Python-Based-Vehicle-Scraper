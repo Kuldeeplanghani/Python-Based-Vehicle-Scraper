{
 "cells": [
  {
   "cell_type": "code",
   "execution_count": 1,
   "metadata": {
    "collapsed": true
   },
   "outputs": [],
   "source": [
    "# Basic Libraries \n",
    "import pandas as pd\n",
    "import requests as req\n",
    "import urllib2 as urllib2\n",
    "import urllib as urllib\n",
    "import numpy as np\n",
    "from bs4 import BeautifulSoup\n",
    "import os\n",
    "import sys"
   ]
  },
  {
   "cell_type": "code",
   "execution_count": 2,
   "metadata": {
    "collapsed": true
   },
   "outputs": [],
   "source": [
    "def download_images_from_list_of_links():\n",
    "    un = 0;\n",
    "    fileopen = open('links.txt', 'r')\n",
    "    for i in range(45600):\n",
    "        try:\n",
    "            link = fileopen.readline()\n",
    "            if(i < 37412):\n",
    "                un = un + 1;\n",
    "                continue;\n",
    "            response = urllib2.urlopen(link)\n",
    "            if(i % 25 == 0):\n",
    "                print str(un)\n",
    "            rfname = link.split('/')[-1]\n",
    "            #rfname = rfname.split('_')[-1];\n",
    "            dir = \"images/\"+rfname.split('-')[0] +\"_\"+ rfname.split('-')[1];\n",
    "            if not os.path.exists(dir):\n",
    "                os.makedirs(dir)\n",
    "            un = un + 1;\n",
    "            local_file = open(dir+\"/\"+str(un)+\"-\" + rfname, \"wb\")\n",
    "            local_file.write(response.read())\n",
    "            local_file.close()   \n",
    "        except urllib2.URLError , e:\n",
    "            print \"URL error \",e\n",
    "        except:\n",
    "            print \"Index Error \", sys.exc_info()[0]\n",
    "            \n",
    "    print \"DONE downloading!\""
   ]
  },
  {
   "cell_type": "code",
   "execution_count": null,
   "metadata": {
    "collapsed": false
   },
   "outputs": [],
   "source": [
    "download_images_from_list_of_links()"
   ]
  },
  {
   "cell_type": "code",
   "execution_count": null,
   "metadata": {
    "collapsed": true
   },
   "outputs": [],
   "source": []
  }
 ],
 "metadata": {
  "kernelspec": {
   "display_name": "Python 2",
   "language": "python",
   "name": "python2"
  },
  "language_info": {
   "codemirror_mode": {
    "name": "ipython",
    "version": 2
   },
   "file_extension": ".py",
   "mimetype": "text/x-python",
   "name": "python",
   "nbconvert_exporter": "python",
   "pygments_lexer": "ipython2",
   "version": "2.7.12"
  }
 },
 "nbformat": 4,
 "nbformat_minor": 0
}
